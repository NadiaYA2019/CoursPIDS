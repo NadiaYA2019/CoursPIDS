{
  "nbformat": 4,
  "nbformat_minor": 0,
  "metadata": {
    "colab": {
      "name": "Séance2PIDS.ipynb",
      "provenance": [],
      "collapsed_sections": []
    },
    "kernelspec": {
      "name": "python3",
      "display_name": "Python 3"
    }
  },
  "cells": [
    {
      "cell_type": "code",
      "metadata": {
        "id": "TTOlvA4XqVH8",
        "outputId": "c11a012f-f62c-43e0-8ad8-561e8068d8d5",
        "colab": {
          "base_uri": "https://localhost:8080/",
          "height": 34
        }
      },
      "source": [
        "counts = dict()\n",
        "print(counts)"
      ],
      "execution_count": null,
      "outputs": [
        {
          "output_type": "stream",
          "text": [
            "{}\n"
          ],
          "name": "stdout"
        }
      ]
    },
    {
      "cell_type": "code",
      "metadata": {
        "id": "ye8cEtkurmXR",
        "outputId": "6c3d4941-e4ea-43aa-a07d-77a76d918147",
        "colab": {
          "base_uri": "https://localhost:8080/",
          "height": 134
        }
      },
      "source": [
        "counts = dict()\n",
        "names =['a', 'b', 'c', 'a', 'b', 'd', 1.0]\n",
        "for n in names:\n",
        "  if n not in counts.keys():\n",
        "    counts[n]=1\n",
        "    print(counts)\n",
        "  else:\n",
        "    counts[n]=counts[n]+1\n",
        "    print(counts)\n"
      ],
      "execution_count": null,
      "outputs": [
        {
          "output_type": "stream",
          "text": [
            "{'a': 1}\n",
            "{'a': 1, 'b': 1}\n",
            "{'a': 1, 'b': 1, 'c': 1}\n",
            "{'a': 2, 'b': 1, 'c': 1}\n",
            "{'a': 2, 'b': 2, 'c': 1}\n",
            "{'a': 2, 'b': 2, 'c': 1, 'd': 1}\n",
            "{'a': 2, 'b': 2, 'c': 1, 'd': 1, 1.0: 1}\n"
          ],
          "name": "stdout"
        }
      ]
    },
    {
      "cell_type": "code",
      "metadata": {
        "id": "fOwEj_l5rlOy"
      },
      "source": [
        ""
      ],
      "execution_count": null,
      "outputs": []
    },
    {
      "cell_type": "code",
      "metadata": {
        "id": "mXY9p_9-r60A"
      },
      "source": [
        ""
      ],
      "execution_count": null,
      "outputs": []
    },
    {
      "cell_type": "code",
      "metadata": {
        "id": "rLuFfnp-rY6h",
        "outputId": "8214c7c2-2c16-4c75-cb4d-b2cf3d14d464",
        "colab": {
          "base_uri": "https://localhost:8080/",
          "height": 34
        }
      },
      "source": [
        "x = counts.get('1',-1)\n",
        "print(x)"
      ],
      "execution_count": null,
      "outputs": [
        {
          "output_type": "stream",
          "text": [
            "-1\n"
          ],
          "name": "stdout"
        }
      ]
    },
    {
      "cell_type": "code",
      "metadata": {
        "id": "esY-_WhUr7-K",
        "outputId": "38130b3f-d97c-4b88-de98-df3ed61a0bd6",
        "colab": {
          "base_uri": "https://localhost:8080/",
          "height": 34
        }
      },
      "source": [
        "counts = dict()\n",
        "names =['a', 'b', 'c', 'a', 'b', 'd', 1.0]\n",
        "for n in names: \n",
        "  counts[n]=counts.get(n,0) + 1\n",
        "print(counts)"
      ],
      "execution_count": null,
      "outputs": [
        {
          "output_type": "stream",
          "text": [
            "{'a': 2, 'b': 2, 'c': 1, 'd': 1, 1.0: 1}\n"
          ],
          "name": "stdout"
        }
      ]
    },
    {
      "cell_type": "code",
      "metadata": {
        "id": "KwczFmjlZIh3"
      },
      "source": [
        ""
      ],
      "execution_count": null,
      "outputs": []
    },
    {
      "cell_type": "code",
      "metadata": {
        "id": "KsuPB1VTtERj",
        "outputId": "04197f99-e2c9-41b1-c330-4e4ea0210206",
        "colab": {
          "base_uri": "https://localhost:8080/",
          "height": 121
        }
      },
      "source": [
        "!cat SampleText.txt\n"
      ],
      "execution_count": null,
      "outputs": [
        {
          "output_type": "stream",
          "text": [
            "L'écriture de programmes (ou de programmation) est une activité très créative et enrichissante. Vous pouvez écrire des programmes pour de nombreuses raisons allant de gagner votre vie à résoudre un problème d'analyse de données difficile à s'amuser à aider quelqu'un d'autre à résoudre un problème. Ce livre suppose que tout le monde a besoin de savoir programmer et qu'une fois que vous saurez programmer, vous comprendrez ce que vous voulez faire avec vos nouvelles compétences.\n",
            "\n",
            "Nous sommes entourés dans notre vie quotidienne avec des ordinateurs allant des ordinateurs portables aux téléphones cellulaires. Nous pouvons considérer ces ordinateurs comme nos «assistants personnels» qui peuvent prendre soin de beaucoup de choses en notre nom. Le matériel de nos ordinateurs actuels est essentiellement conçu pour nous poser continuellement la question suivante: «Qu'aimeriez-vous que je fasse ensuite?\n",
            "\n",
            "420/5000 Nos ordinateurs sont rapides et ont une grande quantité de mémoire et pourraient nous être très utiles si nous ne connaissions que la langue pour expliquer à l'ordinateur ce que nous aimerions qu'il fasse ensuite. Si nous connaissions cette langue, nous pourrions dire à l'ordinateur de faire des tâches en notre nom qui étaient répétitives. Fait intéressant, le genre de choses que les ordinateurs peuvent faire de mieux est souvent le genre de choses que nous, les humains, trouvons ennuyeuses et abrutissantes.\n"
          ],
          "name": "stdout"
        }
      ]
    },
    {
      "cell_type": "code",
      "metadata": {
        "id": "khrYha1tZKEA",
        "outputId": "c32ed464-8cc8-4100-f5f6-6e79bb86cfc2",
        "colab": {
          "base_uri": "https://localhost:8080/",
          "height": 154
        }
      },
      "source": [
        "f = open(\"SampleText.txt\", \"r\")\n",
        "content = f.read()\n",
        "f.close()\n",
        "print(content)\n",
        "words = content.split()\n",
        "print(words)"
      ],
      "execution_count": null,
      "outputs": [
        {
          "output_type": "stream",
          "text": [
            "L'écriture de programmes (ou de programmation) est une activité très créative et enrichissante. Vous pouvez écrire des programmes pour de nombreuses raisons allant de gagner votre vie à résoudre un problème d'analyse de données difficile à s'amuser à aider quelqu'un d'autre à résoudre un problème. Ce livre suppose que tout le monde a besoin de savoir programmer et qu'une fois que vous saurez programmer, vous comprendrez ce que vous voulez faire avec vos nouvelles compétences.\n",
            "\n",
            "Nous sommes entourés dans notre vie quotidienne avec des ordinateurs allant des ordinateurs portables aux téléphones cellulaires. Nous pouvons considérer ces ordinateurs comme nos «assistants personnels» qui peuvent prendre soin de beaucoup de choses en notre nom. Le matériel de nos ordinateurs actuels est essentiellement conçu pour nous poser continuellement la question suivante: «Qu'aimeriez-vous que je fasse ensuite?\n",
            "\n",
            "420/5000 Nos ordinateurs sont rapides et ont une grande quantité de mémoire et pourraient nous être très utiles si nous ne connaissions que la langue pour expliquer à l'ordinateur ce que nous aimerions qu'il fasse ensuite. Si nous connaissions cette langue, nous pourrions dire à l'ordinateur de faire des tâches en notre nom qui étaient répétitives. Fait intéressant, le genre de choses que les ordinateurs peuvent faire de mieux est souvent le genre de choses que nous, les humains, trouvons ennuyeuses et abrutissantes.\n",
            "\n",
            "[\"L'écriture\", 'de', 'programmes', '(ou', 'de', 'programmation)', 'est', 'une', 'activité', 'très', 'créative', 'et', 'enrichissante.', 'Vous', 'pouvez', 'écrire', 'des', 'programmes', 'pour', 'de', 'nombreuses', 'raisons', 'allant', 'de', 'gagner', 'votre', 'vie', 'à', 'résoudre', 'un', 'problème', \"d'analyse\", 'de', 'données', 'difficile', 'à', \"s'amuser\", 'à', 'aider', \"quelqu'un\", \"d'autre\", 'à', 'résoudre', 'un', 'problème.', 'Ce', 'livre', 'suppose', 'que', 'tout', 'le', 'monde', 'a', 'besoin', 'de', 'savoir', 'programmer', 'et', \"qu'une\", 'fois', 'que', 'vous', 'saurez', 'programmer,', 'vous', 'comprendrez', 'ce', 'que', 'vous', 'voulez', 'faire', 'avec', 'vos', 'nouvelles', 'compétences.', 'Nous', 'sommes', 'entourés', 'dans', 'notre', 'vie', 'quotidienne', 'avec', 'des', 'ordinateurs', 'allant', 'des', 'ordinateurs', 'portables', 'aux', 'téléphones', 'cellulaires.', 'Nous', 'pouvons', 'considérer', 'ces', 'ordinateurs', 'comme', 'nos', '«assistants', 'personnels»', 'qui', 'peuvent', 'prendre', 'soin', 'de', 'beaucoup', 'de', 'choses', 'en', 'notre', 'nom.', 'Le', 'matériel', 'de', 'nos', 'ordinateurs', 'actuels', 'est', 'essentiellement', 'conçu', 'pour', 'nous', 'poser', 'continuellement', 'la', 'question', 'suivante:', \"«Qu'aimeriez-vous\", 'que', 'je', 'fasse', 'ensuite?', '420/5000', 'Nos', 'ordinateurs', 'sont', 'rapides', 'et', 'ont', 'une', 'grande', 'quantité', 'de', 'mémoire', 'et', 'pourraient', 'nous', 'être', 'très', 'utiles', 'si', 'nous', 'ne', 'connaissions', 'que', 'la', 'langue', 'pour', 'expliquer', 'à', \"l'ordinateur\", 'ce', 'que', 'nous', 'aimerions', \"qu'il\", 'fasse', 'ensuite.', 'Si', 'nous', 'connaissions', 'cette', 'langue,', 'nous', 'pourrions', 'dire', 'à', \"l'ordinateur\", 'de', 'faire', 'des', 'tâches', 'en', 'notre', 'nom', 'qui', 'étaient', 'répétitives.', 'Fait', 'intéressant,', 'le', 'genre', 'de', 'choses', 'que', 'les', 'ordinateurs', 'peuvent', 'faire', 'de', 'mieux', 'est', 'souvent', 'le', 'genre', 'de', 'choses', 'que', 'nous,', 'les', 'humains,', 'trouvons', 'ennuyeuses', 'et', 'abrutissantes.']\n"
          ],
          "name": "stdout"
        }
      ]
    },
    {
      "cell_type": "code",
      "metadata": {
        "id": "jKMiiyRYtac2",
        "outputId": "024c152e-4060-4cc4-807c-c696c62e5296",
        "colab": {
          "base_uri": "https://localhost:8080/",
          "height": 87
        }
      },
      "source": [
        "f = open(\"SampleText.txt\", \"r\")\n",
        "counts = dict()\n",
        "words = f.read().split()\n",
        "print('words',words)\n",
        "print('Counting ....')\n",
        "for w in words: \n",
        "  counts[w] = counts.get(w,0) +1\n",
        "print('Counts', counts)\n",
        "f.close()"
      ],
      "execution_count": null,
      "outputs": [
        {
          "output_type": "stream",
          "text": [
            "words [\"L'écriture\", 'de', 'programmes', '(ou', 'de', 'programmation)', 'est', 'une', 'activité', 'très', 'créative', 'et', 'enrichissante.', 'Vous', 'pouvez', 'écrire', 'des', 'programmes', 'pour', 'de', 'nombreuses', 'raisons', 'allant', 'de', 'gagner', 'votre', 'vie', 'à', 'résoudre', 'un', 'problème', \"d'analyse\", 'de', 'données', 'difficile', 'à', \"s'amuser\", 'à', 'aider', \"quelqu'un\", \"d'autre\", 'à', 'résoudre', 'un', 'problème.', 'Ce', 'livre', 'suppose', 'que', 'tout', 'le', 'monde', 'a', 'besoin', 'de', 'savoir', 'programmer', 'et', \"qu'une\", 'fois', 'que', 'vous', 'saurez', 'programmer,', 'vous', 'comprendrez', 'ce', 'que', 'vous', 'voulez', 'faire', 'avec', 'vos', 'nouvelles', 'compétences.', 'Nous', 'sommes', 'entourés', 'dans', 'notre', 'vie', 'quotidienne', 'avec', 'des', 'ordinateurs', 'allant', 'des', 'ordinateurs', 'portables', 'aux', 'téléphones', 'cellulaires.', 'Nous', 'pouvons', 'considérer', 'ces', 'ordinateurs', 'comme', 'nos', '«assistants', 'personnels»', 'qui', 'peuvent', 'prendre', 'soin', 'de', 'beaucoup', 'de', 'choses', 'en', 'notre', 'nom.', 'Le', 'matériel', 'de', 'nos', 'ordinateurs', 'actuels', 'est', 'essentiellement', 'conçu', 'pour', 'nous', 'poser', 'continuellement', 'la', 'question', 'suivante:', \"«Qu'aimeriez-vous\", 'que', 'je', 'fasse', 'ensuite?', '420/5000', 'Nos', 'ordinateurs', 'sont', 'rapides', 'et', 'ont', 'une', 'grande', 'quantité', 'de', 'mémoire', 'et', 'pourraient', 'nous', 'être', 'très', 'utiles', 'si', 'nous', 'ne', 'connaissions', 'que', 'la', 'langue', 'pour', 'expliquer', 'à', \"l'ordinateur\", 'ce', 'que', 'nous', 'aimerions', \"qu'il\", 'fasse', 'ensuite.', 'Si', 'nous', 'connaissions', 'cette', 'langue,', 'nous', 'pourrions', 'dire', 'à', \"l'ordinateur\", 'de', 'faire', 'des', 'tâches', 'en', 'notre', 'nom', 'qui', 'étaient', 'répétitives.', 'Fait', 'intéressant,', 'le', 'genre', 'de', 'choses', 'que', 'les', 'ordinateurs', 'peuvent', 'faire', 'de', 'mieux', 'est', 'souvent', 'le', 'genre', 'de', 'choses', 'que', 'nous,', 'les', 'humains,', 'trouvons', 'ennuyeuses', 'et', 'abrutissantes.']\n",
            "Counting ....\n",
            "Counts {\"L'écriture\": 1, 'de': 14, 'programmes': 2, '(ou': 1, 'programmation)': 1, 'est': 3, 'une': 2, 'activité': 1, 'très': 2, 'créative': 1, 'et': 5, 'enrichissante.': 1, 'Vous': 1, 'pouvez': 1, 'écrire': 1, 'des': 4, 'pour': 3, 'nombreuses': 1, 'raisons': 1, 'allant': 2, 'gagner': 1, 'votre': 1, 'vie': 2, 'à': 6, 'résoudre': 2, 'un': 2, 'problème': 1, \"d'analyse\": 1, 'données': 1, 'difficile': 1, \"s'amuser\": 1, 'aider': 1, \"quelqu'un\": 1, \"d'autre\": 1, 'problème.': 1, 'Ce': 1, 'livre': 1, 'suppose': 1, 'que': 8, 'tout': 1, 'le': 3, 'monde': 1, 'a': 1, 'besoin': 1, 'savoir': 1, 'programmer': 1, \"qu'une\": 1, 'fois': 1, 'vous': 3, 'saurez': 1, 'programmer,': 1, 'comprendrez': 1, 'ce': 2, 'voulez': 1, 'faire': 3, 'avec': 2, 'vos': 1, 'nouvelles': 1, 'compétences.': 1, 'Nous': 2, 'sommes': 1, 'entourés': 1, 'dans': 1, 'notre': 3, 'quotidienne': 1, 'ordinateurs': 6, 'portables': 1, 'aux': 1, 'téléphones': 1, 'cellulaires.': 1, 'pouvons': 1, 'considérer': 1, 'ces': 1, 'comme': 1, 'nos': 2, '«assistants': 1, 'personnels»': 1, 'qui': 2, 'peuvent': 2, 'prendre': 1, 'soin': 1, 'beaucoup': 1, 'choses': 3, 'en': 2, 'nom.': 1, 'Le': 1, 'matériel': 1, 'actuels': 1, 'essentiellement': 1, 'conçu': 1, 'nous': 6, 'poser': 1, 'continuellement': 1, 'la': 2, 'question': 1, 'suivante:': 1, \"«Qu'aimeriez-vous\": 1, 'je': 1, 'fasse': 2, 'ensuite?': 1, '420/5000': 1, 'Nos': 1, 'sont': 1, 'rapides': 1, 'ont': 1, 'grande': 1, 'quantité': 1, 'mémoire': 1, 'pourraient': 1, 'être': 1, 'utiles': 1, 'si': 1, 'ne': 1, 'connaissions': 2, 'langue': 1, 'expliquer': 1, \"l'ordinateur\": 2, 'aimerions': 1, \"qu'il\": 1, 'ensuite.': 1, 'Si': 1, 'cette': 1, 'langue,': 1, 'pourrions': 1, 'dire': 1, 'tâches': 1, 'nom': 1, 'étaient': 1, 'répétitives.': 1, 'Fait': 1, 'intéressant,': 1, 'genre': 2, 'les': 2, 'mieux': 1, 'souvent': 1, 'nous,': 1, 'humains,': 1, 'trouvons': 1, 'ennuyeuses': 1, 'abrutissantes.': 1}\n"
          ],
          "name": "stdout"
        }
      ]
    },
    {
      "cell_type": "code",
      "metadata": {
        "id": "2gp6xUmcgjsV",
        "outputId": "1c0f4e08-5b5c-4fc0-b9c9-04922bef3f33",
        "colab": {
          "base_uri": "https://localhost:8080/",
          "height": 54
        }
      },
      "source": [
        "print(counts.items())"
      ],
      "execution_count": null,
      "outputs": [
        {
          "output_type": "stream",
          "text": [
            "dict_items([(\"L'écriture\", 1), ('de', 14), ('programmes', 2), ('(ou', 1), ('programmation)', 1), ('est', 3), ('une', 2), ('activité', 1), ('très', 2), ('créative', 1), ('et', 5), ('enrichissante.', 1), ('Vous', 1), ('pouvez', 1), ('écrire', 1), ('des', 4), ('pour', 3), ('nombreuses', 1), ('raisons', 1), ('allant', 2), ('gagner', 1), ('votre', 1), ('vie', 2), ('à', 6), ('résoudre', 2), ('un', 2), ('problème', 1), (\"d'analyse\", 1), ('données', 1), ('difficile', 1), (\"s'amuser\", 1), ('aider', 1), (\"quelqu'un\", 1), (\"d'autre\", 1), ('problème.', 1), ('Ce', 1), ('livre', 1), ('suppose', 1), ('que', 8), ('tout', 1), ('le', 3), ('monde', 1), ('a', 1), ('besoin', 1), ('savoir', 1), ('programmer', 1), (\"qu'une\", 1), ('fois', 1), ('vous', 3), ('saurez', 1), ('programmer,', 1), ('comprendrez', 1), ('ce', 2), ('voulez', 1), ('faire', 3), ('avec', 2), ('vos', 1), ('nouvelles', 1), ('compétences.', 1), ('Nous', 2), ('sommes', 1), ('entourés', 1), ('dans', 1), ('notre', 3), ('quotidienne', 1), ('ordinateurs', 6), ('portables', 1), ('aux', 1), ('téléphones', 1), ('cellulaires.', 1), ('pouvons', 1), ('considérer', 1), ('ces', 1), ('comme', 1), ('nos', 2), ('«assistants', 1), ('personnels»', 1), ('qui', 2), ('peuvent', 2), ('prendre', 1), ('soin', 1), ('beaucoup', 1), ('choses', 3), ('en', 2), ('nom.', 1), ('Le', 1), ('matériel', 1), ('actuels', 1), ('essentiellement', 1), ('conçu', 1), ('nous', 6), ('poser', 1), ('continuellement', 1), ('la', 2), ('question', 1), ('suivante:', 1), (\"«Qu'aimeriez-vous\", 1), ('je', 1), ('fasse', 2), ('ensuite?', 1), ('420/5000', 1), ('Nos', 1), ('sont', 1), ('rapides', 1), ('ont', 1), ('grande', 1), ('quantité', 1), ('mémoire', 1), ('pourraient', 1), ('être', 1), ('utiles', 1), ('si', 1), ('ne', 1), ('connaissions', 2), ('langue', 1), ('expliquer', 1), (\"l'ordinateur\", 2), ('aimerions', 1), (\"qu'il\", 1), ('ensuite.', 1), ('Si', 1), ('cette', 1), ('langue,', 1), ('pourrions', 1), ('dire', 1), ('tâches', 1), ('nom', 1), ('étaient', 1), ('répétitives.', 1), ('Fait', 1), ('intéressant,', 1), ('genre', 2), ('les', 2), ('mieux', 1), ('souvent', 1), ('nous,', 1), ('humains,', 1), ('trouvons', 1), ('ennuyeuses', 1), ('abrutissantes.', 1)])\n"
          ],
          "name": "stdout"
        }
      ]
    },
    {
      "cell_type": "code",
      "metadata": {
        "id": "BrIlH4XJexRq",
        "outputId": "72a442ba-ce7b-4c1f-ea26-f0bcadbb072f",
        "colab": {
          "base_uri": "https://localhost:8080/",
          "height": 280
        }
      },
      "source": [
        "t =('a', 'a', 'b')\n",
        "print(type(t))\n",
        "print(t)\n",
        "s = set(t)\n",
        "print(s)\n",
        "\n",
        "s1 ={'a', 'a', 1} \n",
        "print(s1)\n",
        "s1.add(2)\n",
        "print(s1)\n"
      ],
      "execution_count": null,
      "outputs": [
        {
          "output_type": "stream",
          "text": [
            "<class 'tuple'>\n",
            "('a', 'a', 'b')\n",
            "{'a', 'b'}\n",
            "{'a', 1}\n",
            "{'a', 1, 2}\n"
          ],
          "name": "stdout"
        },
        {
          "output_type": "error",
          "ename": "TypeError",
          "evalue": "ignored",
          "traceback": [
            "\u001b[0;31m---------------------------------------------------------------------------\u001b[0m",
            "\u001b[0;31mTypeError\u001b[0m                                 Traceback (most recent call last)",
            "\u001b[0;32m<ipython-input-114-d6fb0cabe496>\u001b[0m in \u001b[0;36m<module>\u001b[0;34m()\u001b[0m\n\u001b[1;32m      9\u001b[0m \u001b[0ms1\u001b[0m\u001b[0;34m.\u001b[0m\u001b[0madd\u001b[0m\u001b[0;34m(\u001b[0m\u001b[0;36m2\u001b[0m\u001b[0;34m)\u001b[0m\u001b[0;34m\u001b[0m\u001b[0;34m\u001b[0m\u001b[0m\n\u001b[1;32m     10\u001b[0m \u001b[0mprint\u001b[0m\u001b[0;34m(\u001b[0m\u001b[0ms1\u001b[0m\u001b[0;34m)\u001b[0m\u001b[0;34m\u001b[0m\u001b[0;34m\u001b[0m\u001b[0m\n\u001b[0;32m---> 11\u001b[0;31m \u001b[0mprint\u001b[0m\u001b[0;34m(\u001b[0m\u001b[0ms1\u001b[0m\u001b[0;34m[\u001b[0m\u001b[0;36m0\u001b[0m\u001b[0;34m]\u001b[0m\u001b[0;34m)\u001b[0m\u001b[0;34m\u001b[0m\u001b[0;34m\u001b[0m\u001b[0m\n\u001b[0m",
            "\u001b[0;31mTypeError\u001b[0m: 'set' object does not support indexing"
          ]
        }
      ]
    },
    {
      "cell_type": "code",
      "metadata": {
        "id": "g0W1GFXpvhuI",
        "outputId": "2201447a-7f75-48a9-f4ef-6fac20ae7650",
        "colab": {
          "base_uri": "https://localhost:8080/",
          "height": 50
        }
      },
      "source": [
        "name = input('Enter File name')\n",
        "f = open(name, \"r\")\n",
        "counts = dict()\n",
        "\n",
        "for line in f:\n",
        "  words = line.split()\n",
        "  for w in words: \n",
        "    counts[w] = counts.get(w,0) +1\n",
        "\n",
        "bigcount = None\n",
        "bigword = None \n",
        "for word,count in counts.items():\n",
        "  if bigword is None or count >bigcount: \n",
        "    bigword = word\n",
        "    bigcount = count\n",
        "\n",
        "print(bigword,bigcount)\n",
        "f.close\n"
      ],
      "execution_count": null,
      "outputs": [
        {
          "output_type": "stream",
          "text": [
            "Enter File nameSampleText.txt\n",
            "de 14\n"
          ],
          "name": "stdout"
        }
      ]
    },
    {
      "cell_type": "code",
      "metadata": {
        "id": "ItgdqlUq9deU",
        "outputId": "a91f2ce0-9155-47b8-cba6-b552df61c3c4",
        "colab": {
          "base_uri": "https://localhost:8080/",
          "height": 50
        }
      },
      "source": [
        "x=('1', '2', 'a')\n",
        "\n",
        "l = list(x)\n",
        "print(l)\n",
        "l.reverse()\n",
        "print(l)"
      ],
      "execution_count": null,
      "outputs": [
        {
          "output_type": "stream",
          "text": [
            "['1', '2', 'a']\n",
            "['a', '2', '1']\n"
          ],
          "name": "stdout"
        }
      ]
    },
    {
      "cell_type": "code",
      "metadata": {
        "id": "BSlrLtuz95WQ",
        "outputId": "8642d718-f374-4bcc-e054-933ae20541d1",
        "colab": {
          "base_uri": "https://localhost:8080/",
          "height": 50
        }
      },
      "source": [
        "print(sorted(x))\n",
        "print(len(x))\n"
      ],
      "execution_count": null,
      "outputs": [
        {
          "output_type": "stream",
          "text": [
            "['1', '2', 'a']\n",
            "3\n"
          ],
          "name": "stdout"
        }
      ]
    },
    {
      "cell_type": "code",
      "metadata": {
        "id": "J7VyNk-i-41M"
      },
      "source": [
        "def Fonction1(name):\n",
        "  f = open(name, \"r\")\n",
        "  counts = dict()\n",
        "\n",
        "  for line in f:\n",
        "    words = line.split()\n",
        "    for w in words: \n",
        "      counts[w] = counts.get(w,0) +1\n",
        "  \n",
        "  return counts"
      ],
      "execution_count": null,
      "outputs": []
    },
    {
      "cell_type": "code",
      "metadata": {
        "id": "Rd3-voCHA914",
        "outputId": "5d5831a4-5d34-46fc-fd68-3aea0bc2f222",
        "colab": {
          "base_uri": "https://localhost:8080/",
          "height": 34
        }
      },
      "source": [
        "name = input('Enter File name')\n"
      ],
      "execution_count": null,
      "outputs": [
        {
          "output_type": "stream",
          "text": [
            "Enter File nameSampleText.txt\n"
          ],
          "name": "stdout"
        }
      ]
    },
    {
      "cell_type": "code",
      "metadata": {
        "id": "94a_dN-oBRwj",
        "outputId": "71b2ae8f-4873-490a-a695-9b9303e28798",
        "colab": {
          "base_uri": "https://localhost:8080/",
          "height": 54
        }
      },
      "source": [
        "counts = Fonction1(name)\n",
        "print(counts)"
      ],
      "execution_count": null,
      "outputs": [
        {
          "output_type": "stream",
          "text": [
            "{\"L'écriture\": 1, 'de': 14, 'programmes': 2, '(ou': 1, 'programmation)': 1, 'est': 3, 'une': 2, 'activité': 1, 'très': 2, 'créative': 1, 'et': 5, 'enrichissante.': 1, 'Vous': 1, 'pouvez': 1, 'écrire': 1, 'des': 4, 'pour': 3, 'nombreuses': 1, 'raisons': 1, 'allant': 2, 'gagner': 1, 'votre': 1, 'vie': 2, 'à': 6, 'résoudre': 2, 'un': 2, 'problème': 1, \"d'analyse\": 1, 'données': 1, 'difficile': 1, \"s'amuser\": 1, 'aider': 1, \"quelqu'un\": 1, \"d'autre\": 1, 'problème.': 1, 'Ce': 1, 'livre': 1, 'suppose': 1, 'que': 8, 'tout': 1, 'le': 3, 'monde': 1, 'a': 1, 'besoin': 1, 'savoir': 1, 'programmer': 1, \"qu'une\": 1, 'fois': 1, 'vous': 3, 'saurez': 1, 'programmer,': 1, 'comprendrez': 1, 'ce': 2, 'voulez': 1, 'faire': 3, 'avec': 2, 'vos': 1, 'nouvelles': 1, 'compétences.': 1, 'Nous': 2, 'sommes': 1, 'entourés': 1, 'dans': 1, 'notre': 3, 'quotidienne': 1, 'ordinateurs': 6, 'portables': 1, 'aux': 1, 'téléphones': 1, 'cellulaires.': 1, 'pouvons': 1, 'considérer': 1, 'ces': 1, 'comme': 1, 'nos': 2, '«assistants': 1, 'personnels»': 1, 'qui': 2, 'peuvent': 2, 'prendre': 1, 'soin': 1, 'beaucoup': 1, 'choses': 3, 'en': 2, 'nom.': 1, 'Le': 1, 'matériel': 1, 'actuels': 1, 'essentiellement': 1, 'conçu': 1, 'nous': 6, 'poser': 1, 'continuellement': 1, 'la': 2, 'question': 1, 'suivante:': 1, \"«Qu'aimeriez-vous\": 1, 'je': 1, 'fasse': 2, 'ensuite?': 1, '420/5000': 1, 'Nos': 1, 'sont': 1, 'rapides': 1, 'ont': 1, 'grande': 1, 'quantité': 1, 'mémoire': 1, 'pourraient': 1, 'être': 1, 'utiles': 1, 'si': 1, 'ne': 1, 'connaissions': 2, 'langue': 1, 'expliquer': 1, \"l'ordinateur\": 2, 'aimerions': 1, \"qu'il\": 1, 'ensuite.': 1, 'Si': 1, 'cette': 1, 'langue,': 1, 'pourrions': 1, 'dire': 1, 'tâches': 1, 'nom': 1, 'étaient': 1, 'répétitives.': 1, 'Fait': 1, 'intéressant,': 1, 'genre': 2, 'les': 2, 'mieux': 1, 'souvent': 1, 'nous,': 1, 'humains,': 1, 'trouvons': 1, 'ennuyeuses': 1, 'abrutissantes.': 1}\n"
          ],
          "name": "stdout"
        }
      ]
    },
    {
      "cell_type": "code",
      "metadata": {
        "id": "Qg8GB4pyBfA6"
      },
      "source": [
        "def DixMotsLesPlusFrequents(counts):\n",
        "  lst=[]\n",
        "  for key, val in counts.items():\n",
        "    newtup = (val, key)\n",
        "    lst.append(newtup)\n",
        "  lst = sorted(lst, reverse=True)\n",
        "  return lst[:10]"
      ],
      "execution_count": null,
      "outputs": []
    },
    {
      "cell_type": "code",
      "metadata": {
        "id": "7D-5QZETCLW_",
        "outputId": "416ee749-05f9-428e-ac73-45660960fc40",
        "colab": {
          "base_uri": "https://localhost:8080/",
          "height": 185
        }
      },
      "source": [
        "DixMotsLesPlusFrequents(counts)"
      ],
      "execution_count": null,
      "outputs": [
        {
          "output_type": "execute_result",
          "data": {
            "text/plain": [
              "[(14, 'de'),\n",
              " (8, 'que'),\n",
              " (6, 'à'),\n",
              " (6, 'ordinateurs'),\n",
              " (6, 'nous'),\n",
              " (5, 'et'),\n",
              " (4, 'des'),\n",
              " (3, 'vous'),\n",
              " (3, 'pour'),\n",
              " (3, 'notre')]"
            ]
          },
          "metadata": {
            "tags": []
          },
          "execution_count": 69
        }
      ]
    }
  ]
}